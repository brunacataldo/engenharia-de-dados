{
  "nbformat": 4,
  "nbformat_minor": 0,
  "metadata": {
    "colab": {
      "provenance": [],
      "authorship_tag": "ABX9TyMZu+jPqzgLbX35Y2gPEGSx",
      "include_colab_link": true
    },
    "kernelspec": {
      "name": "python3",
      "display_name": "Python 3"
    },
    "language_info": {
      "name": "python"
    }
  },
  "cells": [
    {
      "cell_type": "markdown",
      "metadata": {
        "id": "view-in-github",
        "colab_type": "text"
      },
      "source": [
        "<a href=\"https://colab.research.google.com/github/brunacataldo/engenharia-de-dados/blob/master/Copy_of_SQLloja.ipynb\" target=\"_parent\"><img src=\"https://colab.research.google.com/assets/colab-badge.svg\" alt=\"Open In Colab\"/></a>"
      ]
    },
    {
      "cell_type": "markdown",
      "source": [
        "#INTRODUÇÃO"
      ],
      "metadata": {
        "id": "Ge-eFm_Wmv6T"
      }
    },
    {
      "cell_type": "markdown",
      "source": [
        "Neste exercício, criamos um database dentro de uma instância SQL no console da Google simulando um sistema de compras de uma loja e trabalhamos em cima das relações entre tabelas.\n"
      ],
      "metadata": {
        "id": "gFz9TPostc10"
      }
    },
    {
      "cell_type": "markdown",
      "source": [
        "# REFERÊNCIAS EXTERNAS"
      ],
      "metadata": {
        "id": "ZtqA6LGTusEI"
      }
    },
    {
      "cell_type": "markdown",
      "source": [
        "## Comandos SQL\n",
        "\n",
        "[Saiba tudo sobre SQL - Alura](https://www.alura.com.br/artigos/o-que-e-sql?gclid=Cj0KCQiA7bucBhCeARIsAIOwr-9Mp3CqHgUlqk81Tk5V1ldMr3H9mSyWfmAcPNWyfJWECf4JdS4LLOYaApCWEALw_wcB)\n",
        "\n",
        "## Anotações\n",
        "[Meu caderno de apoio SQL - Notion](https://neon-shrew-4f1.notion.site/SQL-e64a9e066c224a7ab0f52b3662e78098)"
      ],
      "metadata": {
        "id": "1fP3bTJOtzP5"
      }
    },
    {
      "cell_type": "markdown",
      "source": [
        "# CRIANDO DATABASE"
      ],
      "metadata": {
        "id": "5TY6SqiVm3Qe"
      }
    },
    {
      "cell_type": "markdown",
      "source": [
        "`CREATE DATABASE loja;`"
      ],
      "metadata": {
        "id": "Sr_LVDK9jhY0"
      }
    },
    {
      "cell_type": "markdown",
      "source": [
        "### Entrando no DataBase\n",
        "\n",
        "`USE loja;`"
      ],
      "metadata": {
        "id": "4ZIsxBHnjqzk"
      }
    },
    {
      "cell_type": "markdown",
      "source": [
        "## VISUALIZANDO TABELAS"
      ],
      "metadata": {
        "id": "6IbgH3G-svxf"
      }
    },
    {
      "cell_type": "markdown",
      "source": [
        "# CRIANDO TABELAS"
      ],
      "metadata": {
        "id": "JNRe5Wuom6iL"
      }
    },
    {
      "cell_type": "markdown",
      "source": [
        "### Criando tabela clientes\n",
        "\n",
        "    CREATE TABLE clientes (\n",
        "    id_cli INT AUTO_INCREMENT,\n",
        "    rg_cli VARCHAR(20) NOT NULL, \n",
        "    nome_cli VARCHAR(100) NOT NULL, \n",
        "    tel_cli VARCHAR(50),\n",
        "    rua VARCHAR(100), \n",
        "    num INT,\n",
        "    bairro VARCHAR(100), \n",
        "    cep VARCHAR(20),\n",
        "    CONSTRAINT pk_id_cli PRIMARY KEY(id_cli)\n",
        "    );"
      ],
      "metadata": {
        "id": "BkdtbKD9jswQ"
      }
    },
    {
      "cell_type": "markdown",
      "source": [
        "### Criando tabela compras\n",
        "\n",
        "    CREATE TABLE compras (\n",
        "    id_compra INT AUTO_INCREMENT, \n",
        "    data_compra DATE NOT NULL, \n",
        "    valor_compra FLOAT NOT NULL, \n",
        "    id_cli INT,\n",
        "    CONSTRAINT pk_id_compra PRIMARY KEY(id_compra),\n",
        "    CONSTRAINT fk_compra_cliente FOREIGN KEY(id_cli) \n",
        "    REFERENCES clientes(id_cli) \n",
        "    );"
      ],
      "metadata": {
        "id": "g9MPZo_ejw-Z"
      }
    },
    {
      "cell_type": "markdown",
      "source": [
        "### Criando tabela produtos\n",
        "    CREATE TABLE produtos (\n",
        "    id_prod INT AUTO_INCREMENT, \n",
        "    nome_prod VARCHAR(100) NOT NULL, \n",
        "    tipo_prod VARCHAR(100) NOT NULL, \n",
        "    preço_prod FLOAT NOT NULL, \n",
        "    estoque_prod INT,\n",
        "    CONSTRAINT pk_id_prod PRIMARY KEY(id_prod) \n",
        "    );"
      ],
      "metadata": {
        "id": "MsN8Cq9Ajutc"
      }
    },
    {
      "cell_type": "markdown",
      "source": [
        "### Criando tabela compras_contem_produtos\n",
        "\n",
        "    CREATE TABLE compras_contem_produtos ( \n",
        "    id INT AUTO_INCREMENT,\n",
        "    id_compra INT,\n",
        "    id_prod INT, \n",
        "    quantidade INT NOT NULL,\n",
        "    CONSTRAINT pk_id_compra_produtos PRIMARY KEY(id),\n",
        "    CONSTRAINT fk_ccp_compra FOREIGN KEY(id_compra) \n",
        "    REFERENCES compras(id_compra),\n",
        "    CONSTRAINT fk_ccp_produto FOREIGN KEY(id_prod) REFERENCES produtos(id_prod) \n",
        "    );"
      ],
      "metadata": {
        "id": "XWmjgZmkjzAY"
      }
    },
    {
      "cell_type": "markdown",
      "source": [
        "### Adicionando atributos após ter criado a tabela\n",
        "    ALTER TABLE clientes \n",
        "    ADD cidade VARCHAR(100)\n",
        "\n",
        "    ALTER TABLE clientes \n",
        "    ADD estado VARCHAR(100)"
      ],
      "metadata": {
        "id": "XQLjL9--j09U"
      }
    },
    {
      "cell_type": "markdown",
      "source": [
        "## INSERINDO VALORES NAS COLUNAS"
      ],
      "metadata": {
        "id": "pBDK4U73m_4t"
      }
    },
    {
      "cell_type": "markdown",
      "source": [
        "### Inserindo valores na tabela clientes\n",
        "\n",
        "    INSERT INTO clientes \n",
        "    VALUES\n",
        "    (NULL, '14.594.456-6', 'Benedito Henry Teixeira', '(88) 99690-4161', 'Rua Eduardo Mota', 640, 'Centro', '62420-970', 'Chaval', 'CE'),\n",
        "    (NULL, '11.946.174-2', 'Mariah Jaqueline Aparício', '(88) 3753-8770', 'Rua Santa Isabel', 539, 'São Miguel', '63010-555', 'Juazeiro do Norte', 'CE'),\n",
        "    (NULL, '27.722.583-8', 'Alice Pietra Ramos', '(31) 99404-8773', 'Rua Doutor Álvaro Lobo Leite', 521, 'Centro', '36419-970', 'Lobo Leite', 'MG'),\n",
        "    (NULL, '38.895.346-9', 'Mário Márcio Ruan Pinto', '(13) 98485-6954', 'Rua Rubião Júnior', 418, 'Centro', '11013-210', 'Santos', 'SP');"
      ],
      "metadata": {
        "id": "tPmQSoupj4LE"
      }
    },
    {
      "cell_type": "markdown",
      "source": [
        "### Inserindo valores na tabela compras\n",
        "\n",
        "    INSERT INTO compras \n",
        "    VALUES\n",
        "    (NULL, '2022-10-05', 58.8, 4), \n",
        "    (NULL, '2022-10-05', 110, 1), \n",
        "    (NULL, '2022-10-07', 81.7, 3), \n",
        "    (NULL, '2022-10-07', 51, 6);"
      ],
      "metadata": {
        "id": "WtzVNXHoj9Sz"
      }
    },
    {
      "cell_type": "markdown",
      "source": [
        "### Inserindo valores na tabela produtos\n",
        "\n",
        "    INSERT INTO produtos \n",
        "    VALUES\n",
        "    (NULL, 'Energético TNT 269ML', 'Bebidas', 5.5, 35),\n",
        "    (NULL, 'Arroz Juliano Parboilizado', 'Arroz', 4.5, 150),\n",
        "    (NULL, 'Arroz Juliano Branco', 'Arroz', 4.2, 122),\n",
        "    (NULL, 'Coca Cola 1 litro', 'Bebidas', 8.5, 36),\n",
        "    (NULL, 'Biscoito Recheado Bolão Morango', 'Doces', 2.7, 45),\n",
        "    (NULL, 'Água Mineral sem Gás', 'Bebidas', 2, 266),\n",
        "    (NULL, 'Chocolate Gutti Gutti 50g', 'Doces', 1.9, 61),\n",
        "    (NULL, 'Suco de Laranja Laranjinha', 'Bebidas', 3, 16);"
      ],
      "metadata": {
        "id": "8-sP9_Nmj_OD"
      }
    },
    {
      "cell_type": "markdown",
      "source": [
        "### Inserindo valores na tabela compras_contem_produtos\n",
        "\n",
        "    INSERT INTO compras_contem_produtos \n",
        "    VALUES \n",
        "    (NULL, 1, 3, 10),\n",
        "    (NULL, 1, 5, 4),\n",
        "    (NULL, 1, 8, 2),\n",
        "    (NULL, 2, 2, 20),\n",
        "    (NULL, 2, 6, 10),\n",
        "    (NULL, 3, 1, 4),\n",
        "    (NULL, 3, 3, 10),\n",
        "    (NULL, 3, 7, 3),\n",
        "    (NULL, 3, 8, 4),\n",
        "    (NULL, 4, 4, 6);"
      ],
      "metadata": {
        "id": "N5UPJbcdkC7q"
      }
    },
    {
      "cell_type": "markdown",
      "source": [
        "OBS: Durante a criação das tabelas, houve uma mudança involuntária dos IDs. Caso aconteça: \n",
        "### Modificando ID\n",
        "\n",
        "    UPDATE compras_contem_produtos SET id = 2 WHERE id = 52;\n",
        "    UPDATE compras_contem_produtos SET id = 3 WHERE id = 53;\n",
        "    UPDATE compras_contem_produtos SET id = 4 WHERE id = 54;\n",
        "    UPDATE compras_contem_produtos SET id = 5 WHERE id = 55;\n",
        "    UPDATE compras_contem_produtos SET id = 6 WHERE id = 56;\n",
        "    UPDATE compras_contem_produtos SET id = 7 WHERE id = 57;\n",
        "    UPDATE compras_contem_produtos SET id = 8 WHERE id = 58;\n",
        "    UPDATE compras_contem_produtos SET id = 9 WHERE id = 59;\n",
        "    UPDATE compras_contem_produtos SET id = 10 WHERE id = 60;"
      ],
      "metadata": {
        "id": "PzhrLYLukGM0"
      }
    },
    {
      "cell_type": "markdown",
      "source": [
        "## CONSULTAS"
      ],
      "metadata": {
        "id": "k3ZQSauxmKOp"
      }
    },
    {
      "cell_type": "markdown",
      "source": [
        "### 1) Mostrar todos os dados de Clientes\t\t\n",
        "\n",
        "    SELECT * FROM clientes;\t\t\t\t"
      ],
      "metadata": {
        "id": "d8dmHzdqkhpo"
      }
    },
    {
      "cell_type": "markdown",
      "source": [
        "### 2) Mostrar nome, rg e telefone dos Clientes\t\t\t\t\n",
        "\n",
        "    SELECT nome_cli, rg_cli, tel_cli FROM clientes;\t"
      ],
      "metadata": {
        "id": "3EoCDMxPkmH-"
      }
    },
    {
      "cell_type": "markdown",
      "source": [
        "### 3) Mostrar nome e preço de Todos os Produtos\t\t\t\n",
        "\n",
        "    SELECT nome_prod, preco_prod FROM produtos; "
      ],
      "metadata": {
        "id": "_HY32VULknu0"
      }
    },
    {
      "cell_type": "markdown",
      "source": [
        "### 4) Mostrar Nome, preço e estoque das Bebidas\t\t\t\t\n",
        "\n",
        "    SELECT nome_prod, preco_prod, estoque_prod FROM produtos WHERE tipo_prod  = 'bebidas';"
      ],
      "metadata": {
        "id": "rXF3lbzkko6S"
      }
    },
    {
      "cell_type": "markdown",
      "source": [
        "### 5) Mostrar todos os produtos com preço acima de 5 reais\t\t\t\t\n",
        "\n",
        "    SELECT produtos WHERE preco_prod > 5; "
      ],
      "metadata": {
        "id": "u1oEZXw4kqIj"
      }
    },
    {
      "cell_type": "markdown",
      "source": [
        "### 6) Mostrar a quantidade total de produtos em estoque\t\t\n",
        "\n",
        "    SELECT SUM(estoque_prod) FROM produtos;"
      ],
      "metadata": {
        "id": "5vOrUkohkrKn"
      }
    },
    {
      "cell_type": "markdown",
      "source": [
        "### 7) Mostrar a soma de todas as compras\t\t\n",
        "\n",
        "    SELECT SUM(valor_compra) FROM compras; "
      ],
      "metadata": {
        "id": "lc6kj79mks4g"
      }
    },
    {
      "cell_type": "markdown",
      "source": [
        "### 8) Mostrar todos os produtos ordenados pelo nome (A-Z)\t\t\t\t\n",
        "\n",
        "    SELECT  * FROM produtos ORDER BY (nome_prod);"
      ],
      "metadata": {
        "id": "oxgNrrsNkuAF"
      }
    },
    {
      "cell_type": "markdown",
      "source": [
        "### 9) Mostrar o nome e o valor total da compra realizada pela cliente Mariah Jaqueline Aparício\t\t\t\t\n",
        "\n",
        "    SELECT SUM(compras_contem_produtos) WHERE id_compra = 1 `#ERRADO'"
      ],
      "metadata": {
        "id": "OvtVdLAwkvRX"
      }
    },
    {
      "cell_type": "markdown",
      "source": [
        "### 10) Mostrar todos os cliente que são do estado de SP ou do  CE\t\t\t\t\t\n",
        "    SELECT nome_cli FROM clientes WHERE estado = 'SP' OR estado = 'CE';"
      ],
      "metadata": {
        "id": "uXw2GbDNkxZv"
      }
    },
    {
      "cell_type": "markdown",
      "source": [
        "### 11) Mostrar todos os cliente que são do estado do CE e do bairro Centro\n",
        "\n",
        "    SELECT nome_cli FROM clientes WHERE estado = 'CE' and bairro = 'Centro';"
      ],
      "metadata": {
        "id": "Hhqsq6BekyqW"
      }
    },
    {
      "cell_type": "markdown",
      "source": [
        "\t\t\n",
        "### 12) Mostrar a lista de produtos ordenado pelo preço do menor para o maior\n",
        "\n",
        "    SELECT nome_prod, preco_prod FROM produtos ORDER BY preco_prod ASC;"
      ],
      "metadata": {
        "id": "1IkRccHOkz3_"
      }
    },
    {
      "cell_type": "markdown",
      "source": [
        "### 13) Mostrar uma lista dos produtos que foram comprados pelo cliente Benedito Henry Teixeira, bem como seu nome e endereço completo\n",
        "\n",
        "    SELECT p.nome_prod, cl.nome_cli, cl.rua, cl.num, cl.bairro, cl.cep, cl.cidade, cl.estado\n",
        "    FROM produtos AS p\n",
        "    INNER JOIN compras_contem_produtos AS ccp\n",
        "    ON p.id_prod = ccp.id_prod\n",
        "    INNER JOIN compras AS co\n",
        "    ON ccp.id_compra = co.id_compra\n",
        "    INNER JOIN clientes AS cl\n",
        "    ON cl.id_cli = co.id_cli\n",
        "    WHERE cl.nome_cli = 'Benedito Henry Teixeira';\n"
      ],
      "metadata": {
        "id": "AUqtbsP4k068"
      }
    },
    {
      "cell_type": "markdown",
      "source": [
        "### 14) Mostrar a quantidade de clientes que são do estado do CE\n",
        "\n",
        "    SELECT COUNT(*) FROM clientes WHERE estado = 'CE';\n"
      ],
      "metadata": {
        "id": "yZ5No8K9k2Ix"
      }
    },
    {
      "cell_type": "markdown",
      "source": [
        "### 15) Mostrar a soma dos estoques de todas as bebidas do estabelecimento\n",
        "\n",
        "    SELECT SUM(estoque_prod) FROM produtos WHERE tipo_prod = 'bebidas';"
      ],
      "metadata": {
        "id": "BIk0_Hgkk3Ut"
      }
    }
  ]
}